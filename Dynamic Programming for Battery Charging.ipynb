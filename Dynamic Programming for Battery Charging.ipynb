{
 "cells": [
  {
   "cell_type": "markdown",
   "metadata": {},
   "source": [
    "## Dynamic Programming "
   ]
  },
  {
   "cell_type": "markdown",
   "metadata": {},
   "source": [
    "### What is dynamic programming?"
   ]
  },
  {
   "cell_type": "markdown",
   "metadata": {},
   "source": [
    "Dynamic programming is an optimization method which is used to solve complex problems by breaking them into subproblems. The advantage of dynamic programming is that it gives us the output for with respect to each time period where as a linear programming approach will only give us the optimal solution at the end of the time period _t_.\n",
    "<br><br>\n",
    "The DP works by solving the subproblem and saving it's solution. If the subproblem reoccurs, we will just use the answer from the saved memory instead of solving it again."
   ]
  },
  {
   "cell_type": "markdown",
   "metadata": {},
   "source": [
    "- Step 1: Recursion\n",
    "- Step 2: Store Results\n",
    "- Step 3: Backtracking"
   ]
  },
  {
   "cell_type": "markdown",
   "metadata": {},
   "source": [
    "### Using dynamic programming to identify optimal power purchasing quantity in each time period"
   ]
  },
  {
   "cell_type": "markdown",
   "metadata": {},
   "source": [
    "Assume we have a battery with a capacity of 5 kWh. Given below are the cost of buying and selling the energy from the grid. Also, we already know the demand for each time period. "
   ]
  },
  {
   "cell_type": "code",
   "execution_count": 65,
   "metadata": {},
   "outputs": [],
   "source": [
    "import matplotlib.pyplot as plt\n",
    "import numpy as np\n",
    "import pandas as pd"
   ]
  },
  {
   "cell_type": "code",
   "execution_count": 85,
   "metadata": {},
   "outputs": [
    {
     "data": {
      "text/html": [
       "<div>\n",
       "<style scoped>\n",
       "    .dataframe tbody tr th:only-of-type {\n",
       "        vertical-align: middle;\n",
       "    }\n",
       "\n",
       "    .dataframe tbody tr th {\n",
       "        vertical-align: top;\n",
       "    }\n",
       "\n",
       "    .dataframe thead th {\n",
       "        text-align: right;\n",
       "    }\n",
       "</style>\n",
       "<table border=\"1\" class=\"dataframe\">\n",
       "  <thead>\n",
       "    <tr style=\"text-align: right;\">\n",
       "      <th></th>\n",
       "      <th>buying price</th>\n",
       "      <th>selling price</th>\n",
       "      <th>demand</th>\n",
       "    </tr>\n",
       "    <tr>\n",
       "      <th>time</th>\n",
       "      <th></th>\n",
       "      <th></th>\n",
       "      <th></th>\n",
       "    </tr>\n",
       "  </thead>\n",
       "  <tbody>\n",
       "    <tr>\n",
       "      <th>1</th>\n",
       "      <td>8</td>\n",
       "      <td>7</td>\n",
       "      <td>1</td>\n",
       "    </tr>\n",
       "    <tr>\n",
       "      <th>2</th>\n",
       "      <td>7</td>\n",
       "      <td>6</td>\n",
       "      <td>1</td>\n",
       "    </tr>\n",
       "    <tr>\n",
       "      <th>3</th>\n",
       "      <td>10</td>\n",
       "      <td>9</td>\n",
       "      <td>2</td>\n",
       "    </tr>\n",
       "    <tr>\n",
       "      <th>4</th>\n",
       "      <td>11</td>\n",
       "      <td>10</td>\n",
       "      <td>2</td>\n",
       "    </tr>\n",
       "    <tr>\n",
       "      <th>5</th>\n",
       "      <td>12</td>\n",
       "      <td>11</td>\n",
       "      <td>3</td>\n",
       "    </tr>\n",
       "    <tr>\n",
       "      <th>6</th>\n",
       "      <td>10</td>\n",
       "      <td>9</td>\n",
       "      <td>2</td>\n",
       "    </tr>\n",
       "    <tr>\n",
       "      <th>7</th>\n",
       "      <td>8</td>\n",
       "      <td>7</td>\n",
       "      <td>2</td>\n",
       "    </tr>\n",
       "    <tr>\n",
       "      <th>8</th>\n",
       "      <td>9</td>\n",
       "      <td>8</td>\n",
       "      <td>2</td>\n",
       "    </tr>\n",
       "    <tr>\n",
       "      <th>9</th>\n",
       "      <td>11</td>\n",
       "      <td>10</td>\n",
       "      <td>3</td>\n",
       "    </tr>\n",
       "    <tr>\n",
       "      <th>10</th>\n",
       "      <td>12</td>\n",
       "      <td>11</td>\n",
       "      <td>4</td>\n",
       "    </tr>\n",
       "    <tr>\n",
       "      <th>11</th>\n",
       "      <td>10</td>\n",
       "      <td>9</td>\n",
       "      <td>3</td>\n",
       "    </tr>\n",
       "    <tr>\n",
       "      <th>12</th>\n",
       "      <td>8</td>\n",
       "      <td>7</td>\n",
       "      <td>2</td>\n",
       "    </tr>\n",
       "  </tbody>\n",
       "</table>\n",
       "</div>"
      ],
      "text/plain": [
       "      buying price  selling price  demand\n",
       "time                                     \n",
       "1                8              7       1\n",
       "2                7              6       1\n",
       "3               10              9       2\n",
       "4               11             10       2\n",
       "5               12             11       3\n",
       "6               10              9       2\n",
       "7                8              7       2\n",
       "8                9              8       2\n",
       "9               11             10       3\n",
       "10              12             11       4\n",
       "11              10              9       3\n",
       "12               8              7       2"
      ]
     },
     "execution_count": 85,
     "metadata": {},
     "output_type": "execute_result"
    }
   ],
   "source": [
    "data = pd.DataFrame({'time':np.array(range(1,13)),'buying price':[8,7,10,11,12,10,8,9,11,12,10,8],'selling price':[7,6,9,10,11,9,7,8,10,11,9,7],'demand':[1,1,2,2,3,2,2,2,3,4,3,2]})\n",
    "data = data.set_index('time')\n",
    "data"
   ]
  },
  {
   "cell_type": "markdown",
   "metadata": {},
   "source": [
    "p_plus = Buying price <br>\n",
    "p_minus = Selling price <br>\n",
    "d = Demand  <br>\n",
    "t = time period  <br>\n",
    "B = Battery capacity  <br>\n",
    "z = state of charge of battery. Max 5, min =0\n",
    "$z_{0}$ = Initial energy in the battery <br>\n",
    " $\\theta_{T+1} = \\theta_{T+1} \\left(z\\right)$ : Terminal cost function: \n",
    "\n"
   ]
  },
  {
   "cell_type": "code",
   "execution_count": 12,
   "metadata": {},
   "outputs": [],
   "source": [
    "p_plus = [8,7,10,11,12,10,8,9,11,12,10,8]\n",
    "p_minus = [7,6,9,10,11,9,7,8,10,11,9,7]\n",
    "d=[1,1,2,2,3,2,2,2,3,4,3,2]"
   ]
  },
  {
   "cell_type": "code",
   "execution_count": 47,
   "metadata": {},
   "outputs": [
    {
     "data": {
      "image/png": "[encoded data removed]",
      "text/plain": [
       "<Figure size 432x288 with 1 Axes>"
      ]
     },
     "metadata": {},
     "output_type": "display_data"
    }
   ],
   "source": [
    "plt.figure()\n",
    "plt.tight_layout\n",
    "plt.plot(p_plus)\n",
    "plt.plot(p_minus)\n",
    "plt.plot(d)\n",
    "plt.legend(['purchasing price ($/kwh)','selling price ($/kwh)','demand (kwh)'],loc='upper center', bbox_to_anchor=(0.5, 1.2),\n",
    "           ncol=3)\n",
    "plt.show()"
   ]
  },
  {
   "cell_type": "markdown",
   "metadata": {},
   "source": [
    "#### Algorithm"
   ]
  },
  {
   "cell_type": "markdown",
   "metadata": {},
   "source": [
    "The cost of purchasing in time period _t_ can be calculated as follows:<br>\n",
    "<bR>\n",
    "    \n",
    "$$\\text{Cost of buying - revenue from selling + penalty in the last period} \\\\ \n",
    "p_{T}^{+}x^{+}-p_{T}^{-}x^{-}+\\theta_{T+1}\\left(z+x-d_{T}\\right)$$\n",
    "\n",
    "Now, we have the battery capacity B = 5kwh and demand $d_{T}$, so we want to find an optimal _x_ for the time period _T_ which minimizes the total cost.\n",
    "\n",
    "$$\\theta_{T}\\left(z\\right)= \\min_{0\\le z+x-d_{T}\\le B}\\left(p_{T}^{+}x^{+}-p_{T}^{-}x^{-}+\\theta_{T+1}\\left(z+x-d_{T}\\right)\\right)$$\n",
    "\n",
    "Once we do this for all the time periods, the equation becomes:<br>\n",
    "\n",
    "\n",
    "$$\\text{Objective Function} : \\theta_{t}\\left(z\\right)= \\min_{0\\le\\;z+x-d_{t}\\le B}\\left(p_{t}^{+}x^{+}-p_{t}^{-}x^{-}+\\theta_{t+1}\\left(z+x-d_{t}\\right)\\right)$$\n",
    "\n",
    "#### Solving\n",
    "- We solve starting from the last time period, i.e. $\\theta_{T}(z)$ for each possible value of z and continue solving all $\\theta$ till we reach $\\theta_{1}(z_{0})$\n",
    "- The minimum value of _x_ for all the $\\theta_{T}(z)$ is saved\n",
    "- We backtrack the sequence through this value, by starting from $x_{1}(z_{0})$ , i.e., how much should we buy in the first time period with initial charge in battery being $z_{0}$\n",
    "\n",
    "##### Example\n",
    "\n",
    "Looping through z=0..B, for t=12\n",
    "$$\n",
    "\\begin{array}{l}\n",
    "{x=d_{12}-z=2 : \\cos t=p_{12}^{+} x^{+}-p_{12}^{-} x^{-} \\theta_{13}\\left(z+x-d_{t}\\right)=8 \\cdot 2+\\theta_{13}(0)=16} \\\\ \n",
    "{x=3 : \\operatorname{cost}=8 \\cdot 3+\\theta_{13}(1)=17} \\\\ \n",
    "{x=4 : \\operatorname{cost}=8 \\cdot 4+\\theta_{13}(2)=18}\\\\\n",
    "{\\text{...}}\\\\\n",
    "{x=B+d_{12}-z=7 : \\text { cost }=8 \\cdot 7+\\theta_{13}(5)=21} \\\\ \n",
    "{\\text { So } \\theta_{12}(0)=16, x_{12}(0)=2}\\; \\left(\\text{The minimum value for t =12}\\right)\n",
    "\\end{array}$$"
   ]
  },
  {
   "cell_type": "code",
   "execution_count": 86,
   "metadata": {},
   "outputs": [],
   "source": [
    "T=12\n",
    "B = 5\n",
    "optimal_cost = 0\n",
    "cost_a = 0\n",
    "var_theta = 0\n",
    "var_x = 0\n",
    "x = np.zeros([6,12])\n",
    "theta = np.zeros([6,13])"
   ]
  },
  {
   "cell_type": "code",
   "execution_count": 124,
   "metadata": {},
   "outputs": [],
   "source": [
    "for i in range(0,B+1):\n",
    "    theta[i,12]=-7*i                               #Penalty for keeping energy at the end of time period t\n",
    "while T>0:                                         # Loop of time t\n",
    "    for i in range(0,B+1):                         #Loop of z , 0 to 6 \n",
    "        theta_t =[]                                #a temporary list to save all the values of theta in time t and SOC z \n",
    "        x_temp = d[T-1]-i                          #a temporary value of x (units bought/sold) based on previous demand and i\n",
    "        theta_t.append(p_plus[T-1]*max(x_temp,0)-p_minus[T-1]*max(-x_temp,0)+theta[(i+x_temp-d[T-1]),T])\n",
    "        while x_temp < B+d[T-1]-i:                #we check if we have reached the total purchasing limit based on the battery capacity\n",
    "            x_temp +=1\n",
    "            theta_t.append(p_plus[T-1]*max(x_temp,0)-p_minus[T-1]*max(-x_temp,0)+theta[(i+x_temp-d[T-1]),T])\n",
    "        theta[i,T-1] = min(theta_t)               #Save the minimum value for t and i\n",
    "        index=[]     \n",
    "        for g in range(0,6):                      #Identify the units via index of the minimum theta value\n",
    "            if min(theta_t) == theta_t[g]:\n",
    "                index.append(g)\n",
    "        x[i,T-1]=max(index)-i+d[T-1]              #saving the minimum value for x\n",
    "    else:\n",
    "        pass      \n",
    "    T=T-1\n",
    "else:\n",
    "    T=12"
   ]
  },
  {
   "cell_type": "markdown",
   "metadata": {},
   "source": [
    "#### Power purchasing quantity"
   ]
  },
  {
   "cell_type": "code",
   "execution_count": 125,
   "metadata": {},
   "outputs": [
    {
     "data": {
      "text/html": [
       "<style  type=\"text/css\" >\n",
       "</style><table id=\"T_23b5fcfa_b21f_11e9_a4d3_9c2a70bb422a\" ><caption>Units matrix for time t and battery z</caption><thead>    <tr>        <th class=\"blank level0\" ></th>        <th class=\"col_heading level0 col0\" >1</th>        <th class=\"col_heading level0 col1\" >2</th>        <th class=\"col_heading level0 col2\" >3</th>        <th class=\"col_heading level0 col3\" >4</th>        <th class=\"col_heading level0 col4\" >5</th>        <th class=\"col_heading level0 col5\" >6</th>        <th class=\"col_heading level0 col6\" >7</th>        <th class=\"col_heading level0 col7\" >8</th>        <th class=\"col_heading level0 col8\" >9</th>        <th class=\"col_heading level0 col9\" >10</th>        <th class=\"col_heading level0 col10\" >11</th>        <th class=\"col_heading level0 col11\" >12</th>    </tr>    <tr>        <th class=\"index_name level0\" >z</th>        <th class=\"blank\" ></th>        <th class=\"blank\" ></th>        <th class=\"blank\" ></th>        <th class=\"blank\" ></th>        <th class=\"blank\" ></th>        <th class=\"blank\" ></th>        <th class=\"blank\" ></th>        <th class=\"blank\" ></th>        <th class=\"blank\" ></th>        <th class=\"blank\" ></th>        <th class=\"blank\" ></th>        <th class=\"blank\" ></th>    </tr></thead><tbody>\n",
       "                <tr>\n",
       "                        <th id=\"T_23b5fcfa_b21f_11e9_a4d3_9c2a70bb422alevel0_row0\" class=\"row_heading level0 row0\" >0</th>\n",
       "                        <td id=\"T_23b5fcfa_b21f_11e9_a4d3_9c2a70bb422arow0_col0\" class=\"data row0 col0\" >1</td>\n",
       "                        <td id=\"T_23b5fcfa_b21f_11e9_a4d3_9c2a70bb422arow0_col1\" class=\"data row0 col1\" >6</td>\n",
       "                        <td id=\"T_23b5fcfa_b21f_11e9_a4d3_9c2a70bb422arow0_col2\" class=\"data row0 col2\" >7</td>\n",
       "                        <td id=\"T_23b5fcfa_b21f_11e9_a4d3_9c2a70bb422arow0_col3\" class=\"data row0 col3\" >7</td>\n",
       "                        <td id=\"T_23b5fcfa_b21f_11e9_a4d3_9c2a70bb422arow0_col4\" class=\"data row0 col4\" >3</td>\n",
       "                        <td id=\"T_23b5fcfa_b21f_11e9_a4d3_9c2a70bb422arow0_col5\" class=\"data row0 col5\" >2</td>\n",
       "                        <td id=\"T_23b5fcfa_b21f_11e9_a4d3_9c2a70bb422arow0_col6\" class=\"data row0 col6\" >7</td>\n",
       "                        <td id=\"T_23b5fcfa_b21f_11e9_a4d3_9c2a70bb422arow0_col7\" class=\"data row0 col7\" >7</td>\n",
       "                        <td id=\"T_23b5fcfa_b21f_11e9_a4d3_9c2a70bb422arow0_col8\" class=\"data row0 col8\" >8</td>\n",
       "                        <td id=\"T_23b5fcfa_b21f_11e9_a4d3_9c2a70bb422arow0_col9\" class=\"data row0 col9\" >4</td>\n",
       "                        <td id=\"T_23b5fcfa_b21f_11e9_a4d3_9c2a70bb422arow0_col10\" class=\"data row0 col10\" >3</td>\n",
       "                        <td id=\"T_23b5fcfa_b21f_11e9_a4d3_9c2a70bb422arow0_col11\" class=\"data row0 col11\" >2</td>\n",
       "            </tr>\n",
       "            <tr>\n",
       "                        <th id=\"T_23b5fcfa_b21f_11e9_a4d3_9c2a70bb422alevel0_row1\" class=\"row_heading level0 row1\" >1</th>\n",
       "                        <td id=\"T_23b5fcfa_b21f_11e9_a4d3_9c2a70bb422arow1_col0\" class=\"data row1 col0\" >0</td>\n",
       "                        <td id=\"T_23b5fcfa_b21f_11e9_a4d3_9c2a70bb422arow1_col1\" class=\"data row1 col1\" >5</td>\n",
       "                        <td id=\"T_23b5fcfa_b21f_11e9_a4d3_9c2a70bb422arow1_col2\" class=\"data row1 col2\" >6</td>\n",
       "                        <td id=\"T_23b5fcfa_b21f_11e9_a4d3_9c2a70bb422arow1_col3\" class=\"data row1 col3\" >6</td>\n",
       "                        <td id=\"T_23b5fcfa_b21f_11e9_a4d3_9c2a70bb422arow1_col4\" class=\"data row1 col4\" >2</td>\n",
       "                        <td id=\"T_23b5fcfa_b21f_11e9_a4d3_9c2a70bb422arow1_col5\" class=\"data row1 col5\" >1</td>\n",
       "                        <td id=\"T_23b5fcfa_b21f_11e9_a4d3_9c2a70bb422arow1_col6\" class=\"data row1 col6\" >6</td>\n",
       "                        <td id=\"T_23b5fcfa_b21f_11e9_a4d3_9c2a70bb422arow1_col7\" class=\"data row1 col7\" >6</td>\n",
       "                        <td id=\"T_23b5fcfa_b21f_11e9_a4d3_9c2a70bb422arow1_col8\" class=\"data row1 col8\" >7</td>\n",
       "                        <td id=\"T_23b5fcfa_b21f_11e9_a4d3_9c2a70bb422arow1_col9\" class=\"data row1 col9\" >3</td>\n",
       "                        <td id=\"T_23b5fcfa_b21f_11e9_a4d3_9c2a70bb422arow1_col10\" class=\"data row1 col10\" >2</td>\n",
       "                        <td id=\"T_23b5fcfa_b21f_11e9_a4d3_9c2a70bb422arow1_col11\" class=\"data row1 col11\" >1</td>\n",
       "            </tr>\n",
       "            <tr>\n",
       "                        <th id=\"T_23b5fcfa_b21f_11e9_a4d3_9c2a70bb422alevel0_row2\" class=\"row_heading level0 row2\" >2</th>\n",
       "                        <td id=\"T_23b5fcfa_b21f_11e9_a4d3_9c2a70bb422arow2_col0\" class=\"data row2 col0\" >0</td>\n",
       "                        <td id=\"T_23b5fcfa_b21f_11e9_a4d3_9c2a70bb422arow2_col1\" class=\"data row2 col1\" >4</td>\n",
       "                        <td id=\"T_23b5fcfa_b21f_11e9_a4d3_9c2a70bb422arow2_col2\" class=\"data row2 col2\" >5</td>\n",
       "                        <td id=\"T_23b5fcfa_b21f_11e9_a4d3_9c2a70bb422arow2_col3\" class=\"data row2 col3\" >5</td>\n",
       "                        <td id=\"T_23b5fcfa_b21f_11e9_a4d3_9c2a70bb422arow2_col4\" class=\"data row2 col4\" >1</td>\n",
       "                        <td id=\"T_23b5fcfa_b21f_11e9_a4d3_9c2a70bb422arow2_col5\" class=\"data row2 col5\" >0</td>\n",
       "                        <td id=\"T_23b5fcfa_b21f_11e9_a4d3_9c2a70bb422arow2_col6\" class=\"data row2 col6\" >5</td>\n",
       "                        <td id=\"T_23b5fcfa_b21f_11e9_a4d3_9c2a70bb422arow2_col7\" class=\"data row2 col7\" >5</td>\n",
       "                        <td id=\"T_23b5fcfa_b21f_11e9_a4d3_9c2a70bb422arow2_col8\" class=\"data row2 col8\" >6</td>\n",
       "                        <td id=\"T_23b5fcfa_b21f_11e9_a4d3_9c2a70bb422arow2_col9\" class=\"data row2 col9\" >2</td>\n",
       "                        <td id=\"T_23b5fcfa_b21f_11e9_a4d3_9c2a70bb422arow2_col10\" class=\"data row2 col10\" >1</td>\n",
       "                        <td id=\"T_23b5fcfa_b21f_11e9_a4d3_9c2a70bb422arow2_col11\" class=\"data row2 col11\" >0</td>\n",
       "            </tr>\n",
       "            <tr>\n",
       "                        <th id=\"T_23b5fcfa_b21f_11e9_a4d3_9c2a70bb422alevel0_row3\" class=\"row_heading level0 row3\" >3</th>\n",
       "                        <td id=\"T_23b5fcfa_b21f_11e9_a4d3_9c2a70bb422arow3_col0\" class=\"data row3 col0\" >0</td>\n",
       "                        <td id=\"T_23b5fcfa_b21f_11e9_a4d3_9c2a70bb422arow3_col1\" class=\"data row3 col1\" >3</td>\n",
       "                        <td id=\"T_23b5fcfa_b21f_11e9_a4d3_9c2a70bb422arow3_col2\" class=\"data row3 col2\" >4</td>\n",
       "                        <td id=\"T_23b5fcfa_b21f_11e9_a4d3_9c2a70bb422arow3_col3\" class=\"data row3 col3\" >4</td>\n",
       "                        <td id=\"T_23b5fcfa_b21f_11e9_a4d3_9c2a70bb422arow3_col4\" class=\"data row3 col4\" >0</td>\n",
       "                        <td id=\"T_23b5fcfa_b21f_11e9_a4d3_9c2a70bb422arow3_col5\" class=\"data row3 col5\" >-1</td>\n",
       "                        <td id=\"T_23b5fcfa_b21f_11e9_a4d3_9c2a70bb422arow3_col6\" class=\"data row3 col6\" >4</td>\n",
       "                        <td id=\"T_23b5fcfa_b21f_11e9_a4d3_9c2a70bb422arow3_col7\" class=\"data row3 col7\" >4</td>\n",
       "                        <td id=\"T_23b5fcfa_b21f_11e9_a4d3_9c2a70bb422arow3_col8\" class=\"data row3 col8\" >5</td>\n",
       "                        <td id=\"T_23b5fcfa_b21f_11e9_a4d3_9c2a70bb422arow3_col9\" class=\"data row3 col9\" >1</td>\n",
       "                        <td id=\"T_23b5fcfa_b21f_11e9_a4d3_9c2a70bb422arow3_col10\" class=\"data row3 col10\" >0</td>\n",
       "                        <td id=\"T_23b5fcfa_b21f_11e9_a4d3_9c2a70bb422arow3_col11\" class=\"data row3 col11\" >0</td>\n",
       "            </tr>\n",
       "            <tr>\n",
       "                        <th id=\"T_23b5fcfa_b21f_11e9_a4d3_9c2a70bb422alevel0_row4\" class=\"row_heading level0 row4\" >4</th>\n",
       "                        <td id=\"T_23b5fcfa_b21f_11e9_a4d3_9c2a70bb422arow4_col0\" class=\"data row4 col0\" >0</td>\n",
       "                        <td id=\"T_23b5fcfa_b21f_11e9_a4d3_9c2a70bb422arow4_col1\" class=\"data row4 col1\" >2</td>\n",
       "                        <td id=\"T_23b5fcfa_b21f_11e9_a4d3_9c2a70bb422arow4_col2\" class=\"data row4 col2\" >3</td>\n",
       "                        <td id=\"T_23b5fcfa_b21f_11e9_a4d3_9c2a70bb422arow4_col3\" class=\"data row4 col3\" >3</td>\n",
       "                        <td id=\"T_23b5fcfa_b21f_11e9_a4d3_9c2a70bb422arow4_col4\" class=\"data row4 col4\" >-1</td>\n",
       "                        <td id=\"T_23b5fcfa_b21f_11e9_a4d3_9c2a70bb422arow4_col5\" class=\"data row4 col5\" >-2</td>\n",
       "                        <td id=\"T_23b5fcfa_b21f_11e9_a4d3_9c2a70bb422arow4_col6\" class=\"data row4 col6\" >3</td>\n",
       "                        <td id=\"T_23b5fcfa_b21f_11e9_a4d3_9c2a70bb422arow4_col7\" class=\"data row4 col7\" >3</td>\n",
       "                        <td id=\"T_23b5fcfa_b21f_11e9_a4d3_9c2a70bb422arow4_col8\" class=\"data row4 col8\" >4</td>\n",
       "                        <td id=\"T_23b5fcfa_b21f_11e9_a4d3_9c2a70bb422arow4_col9\" class=\"data row4 col9\" >0</td>\n",
       "                        <td id=\"T_23b5fcfa_b21f_11e9_a4d3_9c2a70bb422arow4_col10\" class=\"data row4 col10\" >-1</td>\n",
       "                        <td id=\"T_23b5fcfa_b21f_11e9_a4d3_9c2a70bb422arow4_col11\" class=\"data row4 col11\" >0</td>\n",
       "            </tr>\n",
       "            <tr>\n",
       "                        <th id=\"T_23b5fcfa_b21f_11e9_a4d3_9c2a70bb422alevel0_row5\" class=\"row_heading level0 row5\" >5</th>\n",
       "                        <td id=\"T_23b5fcfa_b21f_11e9_a4d3_9c2a70bb422arow5_col0\" class=\"data row5 col0\" >0</td>\n",
       "                        <td id=\"T_23b5fcfa_b21f_11e9_a4d3_9c2a70bb422arow5_col1\" class=\"data row5 col1\" >1</td>\n",
       "                        <td id=\"T_23b5fcfa_b21f_11e9_a4d3_9c2a70bb422arow5_col2\" class=\"data row5 col2\" >2</td>\n",
       "                        <td id=\"T_23b5fcfa_b21f_11e9_a4d3_9c2a70bb422arow5_col3\" class=\"data row5 col3\" >2</td>\n",
       "                        <td id=\"T_23b5fcfa_b21f_11e9_a4d3_9c2a70bb422arow5_col4\" class=\"data row5 col4\" >-2</td>\n",
       "                        <td id=\"T_23b5fcfa_b21f_11e9_a4d3_9c2a70bb422arow5_col5\" class=\"data row5 col5\" >-3</td>\n",
       "                        <td id=\"T_23b5fcfa_b21f_11e9_a4d3_9c2a70bb422arow5_col6\" class=\"data row5 col6\" >2</td>\n",
       "                        <td id=\"T_23b5fcfa_b21f_11e9_a4d3_9c2a70bb422arow5_col7\" class=\"data row5 col7\" >2</td>\n",
       "                        <td id=\"T_23b5fcfa_b21f_11e9_a4d3_9c2a70bb422arow5_col8\" class=\"data row5 col8\" >3</td>\n",
       "                        <td id=\"T_23b5fcfa_b21f_11e9_a4d3_9c2a70bb422arow5_col9\" class=\"data row5 col9\" >-1</td>\n",
       "                        <td id=\"T_23b5fcfa_b21f_11e9_a4d3_9c2a70bb422arow5_col10\" class=\"data row5 col10\" >-2</td>\n",
       "                        <td id=\"T_23b5fcfa_b21f_11e9_a4d3_9c2a70bb422arow5_col11\" class=\"data row5 col11\" >0</td>\n",
       "            </tr>\n",
       "    </tbody></table>"
      ],
      "text/plain": [
       "<pandas.io.formats.style.Styler at 0x1de32df1898>"
      ]
     },
     "execution_count": 125,
     "metadata": {},
     "output_type": "execute_result"
    }
   ],
   "source": [
    "units = pd.DataFrame(x,columns=np.array(range(1,13)))\n",
    "units.index.name = 'z'\n",
    "units.style.set_caption('Units matrix for time t and battery z')"
   ]
  },
  {
   "cell_type": "markdown",
   "metadata": {},
   "source": [
    "#### Cost of purchasing"
   ]
  },
  {
   "cell_type": "code",
   "execution_count": 126,
   "metadata": {
    "scrolled": true
   },
   "outputs": [
    {
     "data": {
      "text/html": [
       "<style  type=\"text/css\" >\n",
       "</style><table id=\"T_253fa6cc_b21f_11e9_ac01_9c2a70bb422a\" ><caption>Cost Matrix for time t and battery state of charge z</caption><thead>    <tr>        <th class=\"blank level0\" ></th>        <th class=\"col_heading level0 col0\" >1</th>        <th class=\"col_heading level0 col1\" >2</th>        <th class=\"col_heading level0 col2\" >3</th>        <th class=\"col_heading level0 col3\" >4</th>        <th class=\"col_heading level0 col4\" >5</th>        <th class=\"col_heading level0 col5\" >6</th>        <th class=\"col_heading level0 col6\" >7</th>        <th class=\"col_heading level0 col7\" >8</th>        <th class=\"col_heading level0 col8\" >9</th>        <th class=\"col_heading level0 col9\" >10</th>        <th class=\"col_heading level0 col10\" >11</th>        <th class=\"col_heading level0 col11\" >12</th>        <th class=\"col_heading level0 col12\" >13</th>    </tr>    <tr>        <th class=\"index_name level0\" >z</th>        <th class=\"blank\" ></th>        <th class=\"blank\" ></th>        <th class=\"blank\" ></th>        <th class=\"blank\" ></th>        <th class=\"blank\" ></th>        <th class=\"blank\" ></th>        <th class=\"blank\" ></th>        <th class=\"blank\" ></th>        <th class=\"blank\" ></th>        <th class=\"blank\" ></th>        <th class=\"blank\" ></th>        <th class=\"blank\" ></th>        <th class=\"blank\" ></th>    </tr></thead><tbody>\n",
       "                <tr>\n",
       "                        <th id=\"T_253fa6cc_b21f_11e9_ac01_9c2a70bb422alevel0_row0\" class=\"row_heading level0 row0\" >0</th>\n",
       "                        <td id=\"T_253fa6cc_b21f_11e9_ac01_9c2a70bb422arow0_col0\" class=\"data row0 col0\" >232</td>\n",
       "                        <td id=\"T_253fa6cc_b21f_11e9_ac01_9c2a70bb422arow0_col1\" class=\"data row0 col1\" >224</td>\n",
       "                        <td id=\"T_253fa6cc_b21f_11e9_ac01_9c2a70bb422arow0_col2\" class=\"data row0 col2\" >232</td>\n",
       "                        <td id=\"T_253fa6cc_b21f_11e9_ac01_9c2a70bb422arow0_col3\" class=\"data row0 col3\" >217</td>\n",
       "                        <td id=\"T_253fa6cc_b21f_11e9_ac01_9c2a70bb422arow0_col4\" class=\"data row0 col4\" >198</td>\n",
       "                        <td id=\"T_253fa6cc_b21f_11e9_ac01_9c2a70bb422arow0_col5\" class=\"data row0 col5\" >162</td>\n",
       "                        <td id=\"T_253fa6cc_b21f_11e9_ac01_9c2a70bb422arow0_col6\" class=\"data row0 col6\" >142</td>\n",
       "                        <td id=\"T_253fa6cc_b21f_11e9_ac01_9c2a70bb422arow0_col7\" class=\"data row0 col7\" >131</td>\n",
       "                        <td id=\"T_253fa6cc_b21f_11e9_ac01_9c2a70bb422arow0_col8\" class=\"data row0 col8\" >123</td>\n",
       "                        <td id=\"T_253fa6cc_b21f_11e9_ac01_9c2a70bb422arow0_col9\" class=\"data row0 col9\" >94</td>\n",
       "                        <td id=\"T_253fa6cc_b21f_11e9_ac01_9c2a70bb422arow0_col10\" class=\"data row0 col10\" >46</td>\n",
       "                        <td id=\"T_253fa6cc_b21f_11e9_ac01_9c2a70bb422arow0_col11\" class=\"data row0 col11\" >16</td>\n",
       "                        <td id=\"T_253fa6cc_b21f_11e9_ac01_9c2a70bb422arow0_col12\" class=\"data row0 col12\" >0</td>\n",
       "            </tr>\n",
       "            <tr>\n",
       "                        <th id=\"T_253fa6cc_b21f_11e9_ac01_9c2a70bb422alevel0_row1\" class=\"row_heading level0 row1\" >1</th>\n",
       "                        <td id=\"T_253fa6cc_b21f_11e9_ac01_9c2a70bb422arow1_col0\" class=\"data row1 col0\" >224</td>\n",
       "                        <td id=\"T_253fa6cc_b21f_11e9_ac01_9c2a70bb422arow1_col1\" class=\"data row1 col1\" >217</td>\n",
       "                        <td id=\"T_253fa6cc_b21f_11e9_ac01_9c2a70bb422arow1_col2\" class=\"data row1 col2\" >222</td>\n",
       "                        <td id=\"T_253fa6cc_b21f_11e9_ac01_9c2a70bb422arow1_col3\" class=\"data row1 col3\" >206</td>\n",
       "                        <td id=\"T_253fa6cc_b21f_11e9_ac01_9c2a70bb422arow1_col4\" class=\"data row1 col4\" >186</td>\n",
       "                        <td id=\"T_253fa6cc_b21f_11e9_ac01_9c2a70bb422arow1_col5\" class=\"data row1 col5\" >152</td>\n",
       "                        <td id=\"T_253fa6cc_b21f_11e9_ac01_9c2a70bb422arow1_col6\" class=\"data row1 col6\" >134</td>\n",
       "                        <td id=\"T_253fa6cc_b21f_11e9_ac01_9c2a70bb422arow1_col7\" class=\"data row1 col7\" >122</td>\n",
       "                        <td id=\"T_253fa6cc_b21f_11e9_ac01_9c2a70bb422arow1_col8\" class=\"data row1 col8\" >112</td>\n",
       "                        <td id=\"T_253fa6cc_b21f_11e9_ac01_9c2a70bb422arow1_col9\" class=\"data row1 col9\" >82</td>\n",
       "                        <td id=\"T_253fa6cc_b21f_11e9_ac01_9c2a70bb422arow1_col10\" class=\"data row1 col10\" >36</td>\n",
       "                        <td id=\"T_253fa6cc_b21f_11e9_ac01_9c2a70bb422arow1_col11\" class=\"data row1 col11\" >8</td>\n",
       "                        <td id=\"T_253fa6cc_b21f_11e9_ac01_9c2a70bb422arow1_col12\" class=\"data row1 col12\" >-7</td>\n",
       "            </tr>\n",
       "            <tr>\n",
       "                        <th id=\"T_253fa6cc_b21f_11e9_ac01_9c2a70bb422alevel0_row2\" class=\"row_heading level0 row2\" >2</th>\n",
       "                        <td id=\"T_253fa6cc_b21f_11e9_ac01_9c2a70bb422arow2_col0\" class=\"data row2 col0\" >217</td>\n",
       "                        <td id=\"T_253fa6cc_b21f_11e9_ac01_9c2a70bb422arow2_col1\" class=\"data row2 col1\" >210</td>\n",
       "                        <td id=\"T_253fa6cc_b21f_11e9_ac01_9c2a70bb422arow2_col2\" class=\"data row2 col2\" >212</td>\n",
       "                        <td id=\"T_253fa6cc_b21f_11e9_ac01_9c2a70bb422arow2_col3\" class=\"data row2 col3\" >195</td>\n",
       "                        <td id=\"T_253fa6cc_b21f_11e9_ac01_9c2a70bb422arow2_col4\" class=\"data row2 col4\" >174</td>\n",
       "                        <td id=\"T_253fa6cc_b21f_11e9_ac01_9c2a70bb422arow2_col5\" class=\"data row2 col5\" >142</td>\n",
       "                        <td id=\"T_253fa6cc_b21f_11e9_ac01_9c2a70bb422arow2_col6\" class=\"data row2 col6\" >126</td>\n",
       "                        <td id=\"T_253fa6cc_b21f_11e9_ac01_9c2a70bb422arow2_col7\" class=\"data row2 col7\" >113</td>\n",
       "                        <td id=\"T_253fa6cc_b21f_11e9_ac01_9c2a70bb422arow2_col8\" class=\"data row2 col8\" >101</td>\n",
       "                        <td id=\"T_253fa6cc_b21f_11e9_ac01_9c2a70bb422arow2_col9\" class=\"data row2 col9\" >70</td>\n",
       "                        <td id=\"T_253fa6cc_b21f_11e9_ac01_9c2a70bb422arow2_col10\" class=\"data row2 col10\" >26</td>\n",
       "                        <td id=\"T_253fa6cc_b21f_11e9_ac01_9c2a70bb422arow2_col11\" class=\"data row2 col11\" >0</td>\n",
       "                        <td id=\"T_253fa6cc_b21f_11e9_ac01_9c2a70bb422arow2_col12\" class=\"data row2 col12\" >-14</td>\n",
       "            </tr>\n",
       "            <tr>\n",
       "                        <th id=\"T_253fa6cc_b21f_11e9_ac01_9c2a70bb422alevel0_row3\" class=\"row_heading level0 row3\" >3</th>\n",
       "                        <td id=\"T_253fa6cc_b21f_11e9_ac01_9c2a70bb422arow3_col0\" class=\"data row3 col0\" >210</td>\n",
       "                        <td id=\"T_253fa6cc_b21f_11e9_ac01_9c2a70bb422arow3_col1\" class=\"data row3 col1\" >203</td>\n",
       "                        <td id=\"T_253fa6cc_b21f_11e9_ac01_9c2a70bb422arow3_col2\" class=\"data row3 col2\" >202</td>\n",
       "                        <td id=\"T_253fa6cc_b21f_11e9_ac01_9c2a70bb422arow3_col3\" class=\"data row3 col3\" >184</td>\n",
       "                        <td id=\"T_253fa6cc_b21f_11e9_ac01_9c2a70bb422arow3_col4\" class=\"data row3 col4\" >162</td>\n",
       "                        <td id=\"T_253fa6cc_b21f_11e9_ac01_9c2a70bb422arow3_col5\" class=\"data row3 col5\" >133</td>\n",
       "                        <td id=\"T_253fa6cc_b21f_11e9_ac01_9c2a70bb422arow3_col6\" class=\"data row3 col6\" >118</td>\n",
       "                        <td id=\"T_253fa6cc_b21f_11e9_ac01_9c2a70bb422arow3_col7\" class=\"data row3 col7\" >104</td>\n",
       "                        <td id=\"T_253fa6cc_b21f_11e9_ac01_9c2a70bb422arow3_col8\" class=\"data row3 col8\" >90</td>\n",
       "                        <td id=\"T_253fa6cc_b21f_11e9_ac01_9c2a70bb422arow3_col9\" class=\"data row3 col9\" >58</td>\n",
       "                        <td id=\"T_253fa6cc_b21f_11e9_ac01_9c2a70bb422arow3_col10\" class=\"data row3 col10\" >16</td>\n",
       "                        <td id=\"T_253fa6cc_b21f_11e9_ac01_9c2a70bb422arow3_col11\" class=\"data row3 col11\" >-7</td>\n",
       "                        <td id=\"T_253fa6cc_b21f_11e9_ac01_9c2a70bb422arow3_col12\" class=\"data row3 col12\" >-21</td>\n",
       "            </tr>\n",
       "            <tr>\n",
       "                        <th id=\"T_253fa6cc_b21f_11e9_ac01_9c2a70bb422alevel0_row4\" class=\"row_heading level0 row4\" >4</th>\n",
       "                        <td id=\"T_253fa6cc_b21f_11e9_ac01_9c2a70bb422arow4_col0\" class=\"data row4 col0\" >203</td>\n",
       "                        <td id=\"T_253fa6cc_b21f_11e9_ac01_9c2a70bb422arow4_col1\" class=\"data row4 col1\" >196</td>\n",
       "                        <td id=\"T_253fa6cc_b21f_11e9_ac01_9c2a70bb422arow4_col2\" class=\"data row4 col2\" >192</td>\n",
       "                        <td id=\"T_253fa6cc_b21f_11e9_ac01_9c2a70bb422arow4_col3\" class=\"data row4 col3\" >173</td>\n",
       "                        <td id=\"T_253fa6cc_b21f_11e9_ac01_9c2a70bb422arow4_col4\" class=\"data row4 col4\" >151</td>\n",
       "                        <td id=\"T_253fa6cc_b21f_11e9_ac01_9c2a70bb422arow4_col5\" class=\"data row4 col5\" >124</td>\n",
       "                        <td id=\"T_253fa6cc_b21f_11e9_ac01_9c2a70bb422arow4_col6\" class=\"data row4 col6\" >110</td>\n",
       "                        <td id=\"T_253fa6cc_b21f_11e9_ac01_9c2a70bb422arow4_col7\" class=\"data row4 col7\" >95</td>\n",
       "                        <td id=\"T_253fa6cc_b21f_11e9_ac01_9c2a70bb422arow4_col8\" class=\"data row4 col8\" >79</td>\n",
       "                        <td id=\"T_253fa6cc_b21f_11e9_ac01_9c2a70bb422arow4_col9\" class=\"data row4 col9\" >46</td>\n",
       "                        <td id=\"T_253fa6cc_b21f_11e9_ac01_9c2a70bb422arow4_col10\" class=\"data row4 col10\" >7</td>\n",
       "                        <td id=\"T_253fa6cc_b21f_11e9_ac01_9c2a70bb422arow4_col11\" class=\"data row4 col11\" >-14</td>\n",
       "                        <td id=\"T_253fa6cc_b21f_11e9_ac01_9c2a70bb422arow4_col12\" class=\"data row4 col12\" >-28</td>\n",
       "            </tr>\n",
       "            <tr>\n",
       "                        <th id=\"T_253fa6cc_b21f_11e9_ac01_9c2a70bb422alevel0_row5\" class=\"row_heading level0 row5\" >5</th>\n",
       "                        <td id=\"T_253fa6cc_b21f_11e9_ac01_9c2a70bb422arow5_col0\" class=\"data row5 col0\" >196</td>\n",
       "                        <td id=\"T_253fa6cc_b21f_11e9_ac01_9c2a70bb422arow5_col1\" class=\"data row5 col1\" >189</td>\n",
       "                        <td id=\"T_253fa6cc_b21f_11e9_ac01_9c2a70bb422arow5_col2\" class=\"data row5 col2\" >182</td>\n",
       "                        <td id=\"T_253fa6cc_b21f_11e9_ac01_9c2a70bb422arow5_col3\" class=\"data row5 col3\" >162</td>\n",
       "                        <td id=\"T_253fa6cc_b21f_11e9_ac01_9c2a70bb422arow5_col4\" class=\"data row5 col4\" >140</td>\n",
       "                        <td id=\"T_253fa6cc_b21f_11e9_ac01_9c2a70bb422arow5_col5\" class=\"data row5 col5\" >115</td>\n",
       "                        <td id=\"T_253fa6cc_b21f_11e9_ac01_9c2a70bb422arow5_col6\" class=\"data row5 col6\" >102</td>\n",
       "                        <td id=\"T_253fa6cc_b21f_11e9_ac01_9c2a70bb422arow5_col7\" class=\"data row5 col7\" >86</td>\n",
       "                        <td id=\"T_253fa6cc_b21f_11e9_ac01_9c2a70bb422arow5_col8\" class=\"data row5 col8\" >68</td>\n",
       "                        <td id=\"T_253fa6cc_b21f_11e9_ac01_9c2a70bb422arow5_col9\" class=\"data row5 col9\" >35</td>\n",
       "                        <td id=\"T_253fa6cc_b21f_11e9_ac01_9c2a70bb422arow5_col10\" class=\"data row5 col10\" >-2</td>\n",
       "                        <td id=\"T_253fa6cc_b21f_11e9_ac01_9c2a70bb422arow5_col11\" class=\"data row5 col11\" >-21</td>\n",
       "                        <td id=\"T_253fa6cc_b21f_11e9_ac01_9c2a70bb422arow5_col12\" class=\"data row5 col12\" >-35</td>\n",
       "            </tr>\n",
       "    </tbody></table>"
      ],
      "text/plain": [
       "<pandas.io.formats.style.Styler at 0x1de32def048>"
      ]
     },
     "execution_count": 126,
     "metadata": {},
     "output_type": "execute_result"
    }
   ],
   "source": [
    "cost = pd.DataFrame(theta,columns=np.array(range(1,14)))\n",
    "cost.index.name = 'z'\n",
    "cost.style.set_caption('Cost Matrix for time t and battery state of charge z')"
   ]
  },
  {
   "cell_type": "markdown",
   "metadata": {},
   "source": [
    "### Understanding the theta matrix"
   ]
  },
  {
   "cell_type": "markdown",
   "metadata": {},
   "source": [
    "- The units matrix gives us the optimal units to be purchased at each time and state of charge z combination\n",
    "- The cost matrix gives us the optimal cost\n",
    "\n",
    "- Since we have initial state of charge z=0 in time t=0, the cost matrix for $\\theta_{0}(0)$ = 232<br> \n",
    "This can be interpreted as : \"The optimal cost of satisfying all the demands is $232, assuming we start with initial charge of 0\".\n",
    "\n",
    "- To understand how much units to buy we need to backtrack the purchases. <br><br>\n",
    "    - In period 1 we order $x_{1}(0)=1 ;$ since $d_{1}=1,$ we end the period with $z=0+1-1=0$\n",
    "    - In period 2 we order $x_{2}(0)=6 ;$ since $d_{2}=1,$ we end the period with $z=0+6-1=5$\n",
    "    - In period 3 we order $x_{3}(5)=2 ;$ since $d_{3}=2,$ we end the period with $z=5+2-2=5$\n",
    "    - ...\n",
    "    - In period 11 we order $x_{11}(0)=3 ;$ since $d_{11}=3,$ we end the period with $z=0+3-3=0$\n",
    "    - In period 12 we order $x_{12}(0)=2$"
   ]
  }
 ],
 "metadata": {
  "kernelspec": {
   "display_name": "Python 3",
   "language": "python",
   "name": "python3"
  },
  "language_info": {
   "codemirror_mode": {
    "name": "ipython",
    "version": 3
   },
   "file_extension": ".py",
   "mimetype": "text/x-python",
   "name": "python",
   "nbconvert_exporter": "python",
   "pygments_lexer": "ipython3",
   "version": "3.6.4"
  }
 },
 "nbformat": 4,
 "nbformat_minor": 2
}
